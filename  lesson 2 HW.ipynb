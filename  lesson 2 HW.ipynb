{
 "cells": [
  {
   "cell_type": "code",
   "execution_count": 2,
   "metadata": {
    "collapsed": false
   },
   "outputs": [
    {
     "name": "stdout",
     "output_type": "stream",
     "text": [
      "what is your name?Jason\n",
      "welcome to my class, Jason\n"
     ]
    }
   ],
   "source": [
    "name=input(\"what is your name?\")\n",
    "print(\"welcome to my class,\" , name)"
   ]
  },
  {
   "cell_type": "code",
   "execution_count": 1,
   "metadata": {
    "collapsed": false
   },
   "outputs": [
    {
     "name": "stdout",
     "output_type": "stream",
     "text": [
      "what is your faverite game?minecraft\n",
      "I like to play minecraft\n"
     ]
    }
   ],
   "source": [
    "game=input(\"what is your faverite game?\")\n",
    "print(\"I like to play minecraft\")"
   ]
  },
  {
   "cell_type": "code",
   "execution_count": 3,
   "metadata": {
    "collapsed": false
   },
   "outputs": [
    {
     "name": "stdout",
     "output_type": "stream",
     "text": [
      "Who is your best friend?I have a lot of close friends\n",
      "I have multipule very close friends\n"
     ]
    }
   ],
   "source": [
    "friend=input(\"Who is your best friend?\")\n",
    "print(\"I have multipule very close friends\")"
   ]
  },
  {
   "cell_type": "code",
   "execution_count": 4,
   "metadata": {
    "collapsed": false
   },
   "outputs": [
    {
     "name": "stdout",
     "output_type": "stream",
     "text": [
      "What is your faverite food?steak\n",
      "I like to eat steak\n"
     ]
    }
   ],
   "source": [
    "food=input(\"What is your faverite food?\")\n",
    "print(\"I like to eat steak\")"
   ]
  },
  {
   "cell_type": "code",
   "execution_count": null,
   "metadata": {
    "collapsed": true
   },
   "outputs": [],
   "source": []
  }
 ],
 "metadata": {
  "kernelspec": {
   "display_name": "Python 3",
   "language": "python",
   "name": "python3"
  },
  "language_info": {
   "codemirror_mode": {
    "name": "ipython",
    "version": 3
   },
   "file_extension": ".py",
   "mimetype": "text/x-python",
   "name": "python",
   "nbconvert_exporter": "python",
   "pygments_lexer": "ipython3",
   "version": "3.6.0"
  }
 },
 "nbformat": 4,
 "nbformat_minor": 2
}
