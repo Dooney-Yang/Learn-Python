{
 "cells": [
  {
   "cell_type": "code",
   "execution_count": 1,
   "id": "9acf61d9",
   "metadata": {},
   "outputs": [],
   "source": [
    "def tipcalculator():\n",
    "    cost=input('cost')\n",
    "    tip=input('tip')\n",
    "    cost=float(cost)\n",
    "    tip=float(tip)\n",
    "    amount=cost*tip\n",
    "    amount=float(amount)\n",
    "    return(amount)"
   ]
  },
  {
   "cell_type": "code",
   "execution_count": 2,
   "id": "ea4fdd37",
   "metadata": {},
   "outputs": [
    {
     "name": "stdout",
     "output_type": "stream",
     "text": [
      "cost100\n",
      "tip0.20\n"
     ]
    },
    {
     "data": {
      "text/plain": [
       "20.0"
      ]
     },
     "execution_count": 2,
     "metadata": {},
     "output_type": "execute_result"
    }
   ],
   "source": [
    "tipcalculator()"
   ]
  },
  {
   "cell_type": "code",
   "execution_count": 3,
   "id": "4efcd3e3",
   "metadata": {},
   "outputs": [
    {
     "name": "stdout",
     "output_type": "stream",
     "text": [
      "Dinner price100\n",
      "cost100\n",
      "tip0.2\n",
      "120.0\n"
     ]
    }
   ],
   "source": [
    "price=input('Dinner price')\n",
    "price=float(price)\n",
    "total=price+tipcalculator()\n",
    "print(total)"
   ]
  },
  {
   "cell_type": "code",
   "execution_count": null,
   "id": "8fe5209c",
   "metadata": {},
   "outputs": [],
   "source": []
  }
 ],
 "metadata": {
  "kernelspec": {
   "display_name": "Python 3 (ipykernel)",
   "language": "python",
   "name": "python3"
  },
  "language_info": {
   "codemirror_mode": {
    "name": "ipython",
    "version": 3
   },
   "file_extension": ".py",
   "mimetype": "text/x-python",
   "name": "python",
   "nbconvert_exporter": "python",
   "pygments_lexer": "ipython3",
   "version": "3.9.12"
  }
 },
 "nbformat": 4,
 "nbformat_minor": 5
}
