{
 "cells": [
  {
   "cell_type": "code",
   "execution_count": 1,
   "id": "52ec9fe9",
   "metadata": {},
   "outputs": [
    {
     "name": "stdout",
     "output_type": "stream",
     "text": [
      "How long is the item3.75\n"
     ]
    }
   ],
   "source": [
    "lenth=input('How long is the item')"
   ]
  },
  {
   "cell_type": "code",
   "execution_count": 2,
   "id": "f8f2e9b4",
   "metadata": {},
   "outputs": [],
   "source": [
    "Lenth=float(lenth)"
   ]
  },
  {
   "cell_type": "code",
   "execution_count": 3,
   "id": "85bc5bc5",
   "metadata": {},
   "outputs": [
    {
     "name": "stdout",
     "output_type": "stream",
     "text": [
      "How wide is the item2.98\n"
     ]
    }
   ],
   "source": [
    "width=input('How wide is the item')"
   ]
  },
  {
   "cell_type": "code",
   "execution_count": 4,
   "id": "f04a6193",
   "metadata": {},
   "outputs": [],
   "source": [
    "Width=float(width)"
   ]
  },
  {
   "cell_type": "code",
   "execution_count": 5,
   "id": "5d6791fb",
   "metadata": {},
   "outputs": [
    {
     "data": {
      "text/plain": [
       "11.175"
      ]
     },
     "execution_count": 5,
     "metadata": {},
     "output_type": "execute_result"
    }
   ],
   "source": [
    "Width*Lenth"
   ]
  },
  {
   "cell_type": "code",
   "execution_count": null,
   "id": "c80a15f4",
   "metadata": {},
   "outputs": [],
   "source": []
  }
 ],
 "metadata": {
  "kernelspec": {
   "display_name": "Python 3 (ipykernel)",
   "language": "python",
   "name": "python3"
  },
  "language_info": {
   "codemirror_mode": {
    "name": "ipython",
    "version": 3
   },
   "file_extension": ".py",
   "mimetype": "text/x-python",
   "name": "python",
   "nbconvert_exporter": "python",
   "pygments_lexer": "ipython3",
   "version": "3.9.12"
  }
 },
 "nbformat": 4,
 "nbformat_minor": 5
}
