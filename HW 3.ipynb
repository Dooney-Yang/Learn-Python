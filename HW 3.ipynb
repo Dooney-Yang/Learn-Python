{
 "cells": [
  {
   "cell_type": "code",
   "execution_count": 1,
   "id": "3e6d2889",
   "metadata": {},
   "outputs": [
    {
     "name": "stdout",
     "output_type": "stream",
     "text": [
      "How much did your meal cost?200\n"
     ]
    }
   ],
   "source": [
    "money=input('How much did your meal cost?')"
   ]
  },
  {
   "cell_type": "code",
   "execution_count": 2,
   "id": "54066ac3",
   "metadata": {},
   "outputs": [],
   "source": [
    "Cost=int (money)"
   ]
  },
  {
   "cell_type": "code",
   "execution_count": 3,
   "id": "683396d1",
   "metadata": {},
   "outputs": [
    {
     "data": {
      "text/plain": [
       "240.0"
      ]
     },
     "execution_count": 3,
     "metadata": {},
     "output_type": "execute_result"
    }
   ],
   "source": [
    "Cost*1.2"
   ]
  },
  {
   "cell_type": "code",
   "execution_count": null,
   "id": "18bc48ed",
   "metadata": {},
   "outputs": [],
   "source": []
  }
 ],
 "metadata": {
  "kernelspec": {
   "display_name": "Python 3 (ipykernel)",
   "language": "python",
   "name": "python3"
  },
  "language_info": {
   "codemirror_mode": {
    "name": "ipython",
    "version": 3
   },
   "file_extension": ".py",
   "mimetype": "text/x-python",
   "name": "python",
   "nbconvert_exporter": "python",
   "pygments_lexer": "ipython3",
   "version": "3.9.12"
  }
 },
 "nbformat": 4,
 "nbformat_minor": 5
}
